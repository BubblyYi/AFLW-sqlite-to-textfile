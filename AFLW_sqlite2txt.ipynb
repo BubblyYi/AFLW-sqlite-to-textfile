{
 "cells": [
  {
   "cell_type": "code",
   "execution_count": 102,
   "metadata": {
    "collapsed": true
   },
   "outputs": [],
   "source": [
    "#####################################################\n",
    "#  Copyright (C) 2017 Wan Sheng, NCTU, Taiwan \n",
    "#  ALL RIGHTS RESERVED\n",
    "#####################################################"
   ]
  },
  {
   "cell_type": "code",
   "execution_count": 110,
   "metadata": {
    "collapsed": true
   },
   "outputs": [],
   "source": [
    "# import library\n",
    "from random import shuffle\n",
    "import sqlite3 as sq\n",
    "\n",
    "# path setting\n",
    "aflw_sq_path = '/HardDisk/WD/AFLW/aflw/data/aflw.sqlite'\n",
    "# random shuffle or not\n",
    "random_shuffle = True\n",
    "# text file name\n",
    "label_file_name = \"aflw_label.txt\""
   ]
  },
  {
   "cell_type": "code",
   "execution_count": 111,
   "metadata": {
    "collapsed": false
   },
   "outputs": [
    {
     "name": "stdout",
     "output_type": "stream",
     "text": [
      "Succesfully open the aflw.sqlite\n"
     ]
    }
   ],
   "source": [
    "# open the sqlite file which contains the informataion of AFLW dataset\n",
    "aflw_sq = sq.connect(aflw_sq_path)\n",
    "aflw_cur = aflw_sq.cursor()\n",
    "print \"Succesfully open the aflw.sqlite\""
   ]
  },
  {
   "cell_type": "code",
   "execution_count": 112,
   "metadata": {
    "collapsed": false
   },
   "outputs": [
    {
     "name": "stdout",
     "output_type": "stream",
     "text": [
      "(u'Faces',)\n",
      "(u'sqlite_sequence',)\n",
      "(u'FacePose',)\n",
      "(u'FaceImages',)\n",
      "(u'Databases',)\n",
      "(u'FaceMetaData',)\n",
      "(u'sqlite_stat1',)\n",
      "(u'FaceRect',)\n",
      "(u'AnnotationType',)\n",
      "(u'FaceEllipse',)\n",
      "(u'NearDuplicates',)\n",
      "(u'FeatureCoords',)\n",
      "(u'FeatureCoordTypes',)\n",
      "(u'CamPose',)\n"
     ]
    }
   ],
   "source": [
    "# show the tables in the database\n",
    "aflw_cur.execute(\"SELECT name FROM sqlite_master WHERE type='table';\")\n",
    "table_name = aflw_cur.fetchall()\n",
    "for item in table_name:\n",
    "    print item"
   ]
  },
  {
   "cell_type": "code",
   "execution_count": 114,
   "metadata": {
    "collapsed": false,
    "scrolled": true
   },
   "outputs": [],
   "source": [
    "# fetch image_name, face_rect and feature coordinates from db\n",
    "faces = aflw_cur.execute(\"SELECT * FROM Faces\")\n",
    "face_ids = faces.fetchall();\n",
    "\n",
    "\n",
    "face_names = []\n",
    "face_rects = []\n",
    "face_features = []\n",
    "for i in range(len(face_ids)): \n",
    "    # get face_id and file_id\n",
    "    face_id = face_ids[i][0]\n",
    "    file_id_sqlite = \"SELECT file_id FROM Faces WHERE face_id ='\" + str(face_id) + \"'\"\n",
    "    file_id = aflw_cur.execute(file_id_sqlite).fetchall()\n",
    "    file_id = file_id[0][0]\n",
    "    if len(file_id) < 1:\n",
    "        continue\n",
    "    \n",
    "    # get file_path\n",
    "    face_name_query = \"SELECT filepath FROM FaceImages WHERE file_id = '\"+ file_id + \"'\"\n",
    "    face_name = aflw_cur.execute(face_name_query).fetchall()\n",
    "    face_name = face_name[0][0]\n",
    "\n",
    "    # rect\n",
    "    feature_rect_query = \"SELECT FaceRect.x,FaceRect.y,FaceRect.w,FaceRect.h FROM FaceRect WHERE face_id ='\" + str(face_id) + \"'\"\n",
    "    feature_rect = aflw_cur.execute(feature_rect_query).fetchall()\n",
    "    if len(feature_rect) < 1:\n",
    "        continue\n",
    "    \n",
    "    feature_rect = feature_rect[0]\n",
    "    x = feature_rect[0]\n",
    "    y = feature_rect[1]\n",
    "    w = feature_rect[2]\n",
    "    h = feature_rect[3]\n",
    "    \n",
    "    # coor (normalize to 0~1)\n",
    "    feature_coor_query = \"SELECT descr,FeatureCoords.x,FeatureCoords.y FROM FeatureCoords,FeatureCoordTypes WHERE face_id ='\" + str(face_id) + \"' AND FeatureCoords.feature_id = FeatureCoordTypes.feature_id\"\n",
    "    feature_coor = aflw_cur.execute(feature_coor_query).fetchall()    \n",
    "    coor_x = [-1 for k in range(5)]\n",
    "    coor_y = [-1 for k in range(5)]\n",
    "    for j in range(len(feature_coor)):\n",
    "        if feature_coor[j][0] == 'LeftEyeCenter':\n",
    "            coor_x[0] = (feature_coor[j][1] - x)/w\n",
    "            coor_y[0] = (feature_coor[j][2] - y)/h\n",
    "        elif feature_coor[j][0] == 'RightEyeCenter':\n",
    "            coor_x[1] = (feature_coor[j][1] - x)/w\n",
    "            coor_y[1] = (feature_coor[j][2] - y)/h\n",
    "        elif feature_coor[j][0] == 'NoseCenter':\n",
    "            coor_x[2] = (feature_coor[j][1] - x)/w\n",
    "            coor_y[2] = (feature_coor[j][2] - y)/h\n",
    "        elif feature_coor[j][0] == 'MouthLeftCorner':\n",
    "            coor_x[3] = (feature_coor[j][1] - x)/w\n",
    "            coor_y[3] = (feature_coor[j][2] - y)/h\n",
    "        elif feature_coor[j][0] == 'MouthRightCorner':\n",
    "            coor_x[4] = (feature_coor[j][1] - x)/w\n",
    "            coor_y[4] = (feature_coor[j][2] - y)/h\n",
    "    \n",
    "    coor = []\n",
    "    coor.append(coor_x)\n",
    "    coor.append(coor_y)\n",
    "    \n",
    "    # append to list\n",
    "    face_names.append(face_name)\n",
    "    face_rects.append(feature_rect)\n",
    "    face_features.append(coor)\n",
    "\n",
    "aflw_cur.close()\n",
    "aflw_sq.close()"
   ]
  },
  {
   "cell_type": "code",
   "execution_count": 115,
   "metadata": {
    "collapsed": false
   },
   "outputs": [],
   "source": [
    "# check list size\n",
    "if len(face_names) != len(face_rects) or len(face_names) != len(face_features):\n",
    "    print \"Inconsistent list size:\"\n",
    "    print len(face_names), len(face_rects), len(face_features)"
   ]
  },
  {
   "cell_type": "code",
   "execution_count": 124,
   "metadata": {
    "collapsed": false
   },
   "outputs": [],
   "source": [
    "# record the list to the text file\n",
    "label_file = open(label_file_name,\"w\")\n",
    "label_file.write(\"image_name LeftEyeCenter.x LeftEyeCenter.y\" + \\\n",
    "                \" RightEyeCenter.x RightEyeCenter.y\" + \\\n",
    "                \" NoseCenter.x NoseCenter.y\" + \\\n",
    "                \" MouthLeftCorner.x MouthLeftCorner.y\" + \\\n",
    "                \" MouthRightCorner.x MouthRightCorner.y\\n\")\n",
    "\n",
    "index = range(len(face_names))\n",
    "if random_shuffle == True:\n",
    "    shuffle(index)\n",
    "\n",
    "for i in index:\n",
    "    label_file.write(face_names[i] + \" \" + str(face_features[i][0][0]) + \" \" + str(face_features[i][1][0]) \\\n",
    "                                + \" \" + str(face_features[i][0][1]) + \" \" + str(face_features[i][1][1]) \\\n",
    "                                + \" \" + str(face_features[i][0][2]) + \" \" + str(face_features[i][1][2]) \\\n",
    "                                + \" \" + str(face_features[i][0][3]) + \" \" + str(face_features[i][1][3]) \\\n",
    "                                + \" \" + str(face_features[i][0][4]) + \" \" + str(face_features[i][1][4]) + \"\\n\")\n",
    "\n",
    "label_file.close()"
   ]
  }
 ],
 "metadata": {
  "kernelspec": {
   "display_name": "Python 2",
   "language": "python",
   "name": "python2"
  },
  "language_info": {
   "codemirror_mode": {
    "name": "ipython",
    "version": 2
   },
   "file_extension": ".py",
   "mimetype": "text/x-python",
   "name": "python",
   "nbconvert_exporter": "python",
   "pygments_lexer": "ipython2",
   "version": "2.7.6"
  }
 },
 "nbformat": 4,
 "nbformat_minor": 1
}
